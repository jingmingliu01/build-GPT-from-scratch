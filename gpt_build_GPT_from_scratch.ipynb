{
  "nbformat": 4,
  "nbformat_minor": 0,
  "metadata": {
    "colab": {
      "provenance": [],
      "authorship_tag": "ABX9TyMVCig0tcYWE7lMqId0Fx9C",
      "include_colab_link": true
    },
    "kernelspec": {
      "name": "python3",
      "display_name": "Python 3"
    },
    "language_info": {
      "name": "python"
    }
  },
  "cells": [
    {
      "cell_type": "markdown",
      "metadata": {
        "id": "view-in-github",
        "colab_type": "text"
      },
      "source": [
        "<a href=\"https://colab.research.google.com/github/jingmingliu01/build-GPT-from-scratch/blob/main/gpt_build_GPT_from_scratch.ipynb\" target=\"_parent\"><img src=\"https://colab.research.google.com/assets/colab-badge.svg\" alt=\"Open In Colab\"/></a>"
      ]
    },
    {
      "cell_type": "code",
      "source": [
        "import numpy as np\n",
        "import torch\n",
        "import torch.nn as nn\n",
        "from torch.nn import functional as F\n",
        "\n",
        "print(\"NumPy version:\", np.__version__)\n",
        "print(\"PyTorch version:\", torch.__version__)\n",
        "print(\"CUDA available:\", torch.cuda.is_available())"
      ],
      "metadata": {
        "id": "eyXNRhAkvsFx",
        "colab": {
          "base_uri": "https://localhost:8080/"
        },
        "outputId": "9667d784-21ec-452a-8019-287100efe561"
      },
      "execution_count": 2,
      "outputs": [
        {
          "output_type": "stream",
          "name": "stdout",
          "text": [
            "NumPy version: 2.0.1\n",
            "PyTorch version: 2.5.1\n",
            "CUDA available: True\n"
          ]
        }
      ]
    },
    {
      "cell_type": "markdown",
      "source": [
        "# 1.Hyper-parameters\n"
      ],
      "metadata": {
        "id": "EPZPjioufi4D"
      }
    },
    {
      "cell_type": "code",
      "source": [
        "# input\n",
        "batch_size = 64 # independent sequences process in parallel\n",
        "block_size = 256 # maximum context length# embedding\n",
        "# embedding\n",
        "n_embd = 384\n",
        "# layer\n",
        "n_layer = 6\n",
        "# attention\n",
        "n_head = 6\n",
        "\n",
        "# train\n",
        "max_iters = 5000\n",
        "learning_rate = 3e-4\n",
        "dropout = 0.2\n",
        "device = 'cuda' if torch.cuda.is_available() else 'cpu'\n",
        "\n",
        "# eval\n",
        "eval_interval = 500\n",
        "eval_iters = 200\n",
        "\n",
        "# others\n",
        "torch.manual_seed(1337)"
      ],
      "metadata": {
        "id": "TdYMzNKjvtmi",
        "colab": {
          "base_uri": "https://localhost:8080/"
        },
        "outputId": "0ec429e6-1553-48e9-df7c-d1da4269b853"
      },
      "execution_count": 3,
      "outputs": [
        {
          "output_type": "execute_result",
          "data": {
            "text/plain": [
              "<torch._C.Generator at 0x7f979c0dc930>"
            ]
          },
          "metadata": {},
          "execution_count": 3
        }
      ]
    },
    {
      "cell_type": "code",
      "source": [
        "!wget https://raw.githubusercontent.com/karpathy/char-rnn/master/data/tinyshakespeare/input.txt\n",
        "with open('input.txt', 'r', encoding='utf-8') as f:\n",
        "    text = f.read()"
      ],
      "metadata": {
        "id": "AGxnFqR2v7Of",
        "colab": {
          "base_uri": "https://localhost:8080/"
        },
        "outputId": "6ae7317e-57f2-4f1d-c095-91976a321248"
      },
      "execution_count": 4,
      "outputs": [
        {
          "output_type": "stream",
          "name": "stdout",
          "text": [
            "--2025-03-27 01:04:12--  https://raw.githubusercontent.com/karpathy/char-rnn/master/data/tinyshakespeare/input.txt\r\n",
            "Resolving raw.githubusercontent.com (raw.githubusercontent.com)... 185.199.108.133, 185.199.109.133, 185.199.110.133, ...\n",
            "Connecting to raw.githubusercontent.com (raw.githubusercontent.com)|185.199.108.133|:443... connected.\n",
            "HTTP request sent, awaiting response... 200 OK\n",
            "Length: 1115394 (1.1M) [text/plain]\n",
            "Saving to: ‘input.txt’\n",
            "\n",
            "input.txt           100%[===================>]   1.06M  --.-KB/s    in 0.09s   \n",
            "\n",
            "2025-03-27 01:04:12 (11.2 MB/s) - ‘input.txt’ saved [1115394/1115394]\n",
            "\n"
          ]
        }
      ]
    },
    {
      "cell_type": "markdown",
      "source": [
        "# 2.Data Preparation"
      ],
      "metadata": {
        "id": "zaXgSDWIu8zo"
      }
    },
    {
      "cell_type": "code",
      "source": [
        "chars = sorted(list(set(text)))\n",
        "vocab_size = len(chars)\n",
        "stoi = { ch:i for i,ch in enumerate(chars) }\n",
        "itos = { i:ch for i,ch in enumerate(chars) }\n",
        "encode = lambda s: [stoi[c] for c in s]\n",
        "decode = lambda l: ''.join([itos[i] for i in l])\n",
        "\n",
        "data = torch.tensor(encode(text), dtype=torch.long)\n",
        "n = int(0.9*len(data))\n",
        "train_data = data[:n]\n",
        "val_data = data[n:]"
      ],
      "metadata": {
        "id": "MgWMYrwQv5jl"
      },
      "execution_count": 5,
      "outputs": []
    },
    {
      "cell_type": "code",
      "source": [
        "print(encode(chars))\n",
        "print(decode(encode(chars)))"
      ],
      "metadata": {
        "colab": {
          "base_uri": "https://localhost:8080/"
        },
        "id": "O3fughJ8FDum",
        "outputId": "ba6c6361-a82f-4508-b081-465880254d17"
      },
      "execution_count": 22,
      "outputs": [
        {
          "output_type": "stream",
          "name": "stdout",
          "text": [
            "[0, 1, 2, 3, 4, 5, 6, 7, 8, 9, 10, 11, 12, 13, 14, 15, 16, 17, 18, 19, 20, 21, 22, 23, 24, 25, 26, 27, 28, 29, 30, 31, 32, 33, 34, 35, 36, 37, 38, 39, 40, 41, 42, 43, 44, 45, 46, 47, 48, 49, 50, 51, 52, 53, 54, 55, 56, 57, 58, 59, 60, 61, 62, 63, 64]\n",
            "\n",
            " !$&',-.3:;?ABCDEFGHIJKLMNOPQRSTUVWXYZabcdefghijklmnopqrstuvwxyz\n"
          ]
        }
      ]
    },
    {
      "cell_type": "markdown",
      "source": [
        "# 3.Data Loading & Estimate loss\n"
      ],
      "metadata": {
        "id": "e3SIrHJVu_-x"
      }
    },
    {
      "cell_type": "code",
      "source": [
        "def get_batch(split):\n",
        "    data = train_data if split == 'train' else val_data\n",
        "    ix = torch.randint(len(data) - block_size, (batch_size,))\n",
        "    x = torch.stack([data[i:i+block_size] for i in ix])\n",
        "    y = torch.stack([data[i+1:i+block_size+1] for i in ix])\n",
        "    x, y = x.to(device), y.to(device)\n",
        "    return x, y"
      ],
      "metadata": {
        "id": "_t_xRqksyD8Q"
      },
      "execution_count": 6,
      "outputs": []
    },
    {
      "cell_type": "code",
      "source": [
        "@torch.no_grad()\n",
        "def estimate_loss():\n",
        "    out = {}\n",
        "    model.eval()\n",
        "    for split in ['train', 'val']:\n",
        "        losses = torch.zeros(eval_iters)\n",
        "        for k in range(eval_iters):\n",
        "            X, Y = get_batch(split)\n",
        "            logits, loss = model(X, Y)\n",
        "            losses[k] = loss.item()\n",
        "        out[split] = losses.mean()\n",
        "    model.train()\n",
        "    return out"
      ],
      "metadata": {
        "id": "oceb7_bMyGpp"
      },
      "execution_count": 7,
      "outputs": []
    },
    {
      "cell_type": "markdown",
      "source": [
        "# 4.Model define"
      ],
      "metadata": {
        "id": "_xYPzGmTvHSX"
      }
    },
    {
      "cell_type": "markdown",
      "source": [
        "## 4.1 Head"
      ],
      "metadata": {
        "id": "LvL4uSUbvKOf"
      }
    },
    {
      "cell_type": "code",
      "source": [
        "class Head(nn.Module):\n",
        "    def __init__(self, head_size):\n",
        "        super().__init__()\n",
        "        self.query = nn.Linear(n_embd,head_size,bias=False)\n",
        "        self.key = nn.Linear(n_embd,head_size,bias=False)\n",
        "        self.value = nn.Linear(n_embd,head_size,bias=False)\n",
        "        self.register_buffer('tril',torch.tril(torch.ones(block_size,block_size)))\n",
        "\n",
        "        self.dropout=nn.Dropout(dropout)\n",
        "\n",
        "    def forward(self,x):\n",
        "      B,T,C=x.shape\n",
        "      q=self.query(x)\n",
        "      k=self.key(x)\n",
        "      v=self.value(x)\n",
        "      wei= q @ k.transpose(-2,-1)*k.shape[-1]**-0.5\n",
        "      wei= wei.masked_fill(self.tril[:T,:T]==0,float('-inf'))\n",
        "      wei=F.softmax(wei,dim=-1)\n",
        "      wei=self.dropout(wei)\n",
        "      out=wei@v\n",
        "      return out"
      ],
      "metadata": {
        "id": "yVPJHyj9bJfd"
      },
      "execution_count": 8,
      "outputs": []
    },
    {
      "cell_type": "markdown",
      "source": [
        "## 4.2 MultiHead"
      ],
      "metadata": {
        "id": "SHRM1PbFvMTW"
      }
    },
    {
      "cell_type": "code",
      "source": [
        "class MultiHeadAttention(nn.Module):\n",
        "  def __init__(self,num_heads,head_size):\n",
        "    super().__init__()\n",
        "    self.heads=nn.ModuleList([Head(head_size) for _ in range(num_heads)])\n",
        "    self.proj=nn.Linear(n_embd,n_embd)\n",
        "    self.dropout=nn.Dropout(dropout)\n",
        "\n",
        "  def forward(self,x):\n",
        "    out=torch.cat([h(x) for h in self.heads],dim=-1)\n",
        "    out=self.dropout(self.proj(out))\n",
        "    return out"
      ],
      "metadata": {
        "id": "I6IPdzvnc-jY"
      },
      "execution_count": 9,
      "outputs": []
    },
    {
      "cell_type": "markdown",
      "source": [
        "## 4.3 FeedForward"
      ],
      "metadata": {
        "id": "YhTnj0MJvO3a"
      }
    },
    {
      "cell_type": "code",
      "source": [
        "class FeedForward(nn.Module):\n",
        "    def __init__(self, n_embd):\n",
        "        super().__init__()\n",
        "        self.net = nn.Sequential(\n",
        "            nn.Linear(n_embd,4*n_embd),\n",
        "            nn.ReLU(),\n",
        "            nn.Linear(4*n_embd,n_embd),\n",
        "            nn.Dropout(dropout)\n",
        "        )\n",
        "\n",
        "    def forward(self,x):\n",
        "      return self.net(x)"
      ],
      "metadata": {
        "id": "Rvns37GRd2SM"
      },
      "execution_count": 10,
      "outputs": []
    },
    {
      "cell_type": "markdown",
      "source": [
        "## 4.4 Transformer Block"
      ],
      "metadata": {
        "id": "bMCGXWKIvVPM"
      }
    },
    {
      "cell_type": "code",
      "source": [
        "class Block(nn.Module):\n",
        "  def __init__(self,n_embd,n_head):\n",
        "    super().__init__()\n",
        "    head_size=n_embd//n_head\n",
        "    self.sa=MultiHeadAttention(n_head,head_size)\n",
        "    self.ffwd=FeedForward(n_embd)\n",
        "    self.ln1=nn.LayerNorm(n_embd)\n",
        "    self.ln2=nn.LayerNorm(n_embd)\n",
        "\n",
        "  def forward(self,x):\n",
        "    x=x+self.sa(self.ln1(x))\n",
        "    x=x+self.ffwd(self.ln2(x))\n",
        "    return x"
      ],
      "metadata": {
        "id": "s1s7oENleQne"
      },
      "execution_count": 11,
      "outputs": []
    },
    {
      "cell_type": "markdown",
      "source": [
        "## 4.5 GPT"
      ],
      "metadata": {
        "id": "6YW7s4DpvYB0"
      }
    },
    {
      "cell_type": "code",
      "source": [
        "class GPTLanguageModel(nn.Module):\n",
        "\n",
        "    def __init__(self):\n",
        "        super().__init__()\n",
        "        self.token_embedding_table = nn.Embedding(vocab_size, n_embd)\n",
        "        self.position_embedding_table = nn.Embedding(block_size, n_embd)\n",
        "        self.blocks = nn.Sequential(*[Block(n_embd, n_head=n_head) for _ in range(n_layer)])\n",
        "        self.ln_f = nn.LayerNorm(n_embd) # final layer norm\n",
        "        self.lm_head = nn.Linear(n_embd, vocab_size)\n",
        "\n",
        "        self.apply(self._init_weights)\n",
        "\n",
        "    def _init_weights(self, module):\n",
        "        if isinstance(module, nn.Linear):\n",
        "            torch.nn.init.normal_(module.weight, mean=0.0, std=0.02)\n",
        "            if module.bias is not None:\n",
        "                torch.nn.init.zeros_(module.bias)\n",
        "        elif isinstance(module, nn.Embedding):\n",
        "            torch.nn.init.normal_(module.weight, mean=0.0, std=0.02)\n",
        "\n",
        "    def forward(self, idx, targets=None):\n",
        "        B, T = idx.shape\n",
        "\n",
        "        tok_emb = self.token_embedding_table(idx) # (B,T,C)\n",
        "        pos_emb = self.position_embedding_table(torch.arange(T, device=device)) # (T,C)\n",
        "        x = tok_emb + pos_emb # (B,T,C)\n",
        "        x = self.blocks(x) # (B,T,C)\n",
        "        x = self.ln_f(x) # (B,T,C)\n",
        "        logits = self.lm_head(x) # (B,T,vocab_size)\n",
        "\n",
        "        if targets is None:\n",
        "            loss = None\n",
        "        else:\n",
        "            B, T, C = logits.shape\n",
        "            logits = logits.view(B*T, C)\n",
        "            targets = targets.view(B*T)\n",
        "            loss = F.cross_entropy(logits, targets)\n",
        "\n",
        "        return logits, loss\n",
        "\n",
        "    def generate(self, idx, max_new_tokens):\n",
        "        # idx is (B, T) array of indices in the current context\n",
        "        for _ in range(max_new_tokens):\n",
        "            idx_cond = idx[:, -block_size:]\n",
        "            logits, loss = self(idx_cond)\n",
        "            logits = logits[:, -1, :] # becomes (B, C)\n",
        "            probs = F.softmax(logits, dim=-1) # (B, C)\n",
        "            idx_next = torch.multinomial(probs, num_samples=1) # (B, 1)\n",
        "            idx = torch.cat((idx, idx_next), dim=1) # (B, T+1)\n",
        "        return idx"
      ],
      "metadata": {
        "id": "XXuKcqQKe2p9"
      },
      "execution_count": 12,
      "outputs": []
    },
    {
      "cell_type": "markdown",
      "source": [
        "# 5.Train & Generate"
      ],
      "metadata": {
        "id": "qhZwixZYvaUR"
      }
    },
    {
      "cell_type": "code",
      "source": [
        "model = GPTLanguageModel()\n",
        "m = model.to(device)\n",
        "print(sum(p.numel() for p in m.parameters())/1e6, 'M parameters')\n",
        "optimizer = torch.optim.AdamW(model.parameters(), lr=learning_rate)\n",
        "\n",
        "for iter in range(max_iters):\n",
        "\n",
        "    if iter % eval_interval == 0 or iter == max_iters - 1:\n",
        "        losses = estimate_loss()\n",
        "        print(f\"step {iter}: train loss {losses['train']:.4f}, val loss {losses['val']:.4f}\")\n",
        "\n",
        "    xb, yb = get_batch('train')\n",
        "\n",
        "    logits, loss = model(xb, yb)\n",
        "    optimizer.zero_grad(set_to_none=True)\n",
        "    loss.backward()\n",
        "    optimizer.step()\n",
        "\n",
        "context = torch.zeros((1, 1), dtype=torch.long, device=device)\n",
        "print(decode(m.generate(context, max_new_tokens=500)[0].tolist()))\n",
        "#open('more.txt', 'w').write(decode(m.generate(context, max_new_tokens=10000)[0].tolist()))"
      ],
      "metadata": {
        "id": "X5jMfGWEu8UE",
        "colab": {
          "base_uri": "https://localhost:8080/"
        },
        "outputId": "55c57b9e-03e5-4121-cfbc-75ac84e0a033"
      },
      "execution_count": 13,
      "outputs": [
        {
          "output_type": "stream",
          "name": "stdout",
          "text": [
            "10.788929 M parameters\n",
            "step 0: train loss 4.2207, val loss 4.2290\n",
            "step 500: train loss 1.7686, val loss 1.9154\n",
            "step 1000: train loss 1.3964, val loss 1.6056\n",
            "step 1500: train loss 1.2664, val loss 1.5286\n",
            "step 2000: train loss 1.1920, val loss 1.5048\n",
            "step 2500: train loss 1.1260, val loss 1.4938\n",
            "step 3000: train loss 1.0787, val loss 1.4752\n",
            "step 3500: train loss 1.0217, val loss 1.4931\n",
            "step 4000: train loss 0.9634, val loss 1.5007\n",
            "step 4500: train loss 0.9194, val loss 1.5337\n",
            "step 4999: train loss 0.8606, val loss 1.5590\n",
            "\n",
            "But draw froh,\n",
            "For as such a termish dotany that love\n",
            "Can a courteous lord at and eat him.\n",
            "\n",
            "HENRY BOLINGBROKE:\n",
            "But not, my good cousin;\n",
            "Away, we must stand, and from whom we love.\n",
            "\n",
            "HENRY BOLINGBROKE:\n",
            "This is that's no better than to me.\n",
            "\n",
            "WARWICK:\n",
            "An if never, God say, hence, 'tis wit you;\n",
            "But that I'll tell  your news again.\n",
            "\n",
            "HENRY BOLINGBRomerly mine out;\n",
            "And, I will not be troying, thing poor monuntain anon.\n",
            "\n",
            "DUKE OF YORK:\n",
            "What, where be thy children?\n",
            "\n",
            "YORK:\n",
            "You may shall post but live?\n",
            "\n",
            "DUCHE\n"
          ]
        }
      ]
    }
  ]
}